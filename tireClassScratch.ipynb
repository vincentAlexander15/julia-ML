{
 "cells": [
  {
   "cell_type": "code",
   "execution_count": 1,
   "metadata": {},
   "outputs": [],
   "source": [
    "import Pkg;\n",
    "#Pkg.add(\"Flux\");\n",
    "#Pkg.add(\"ImageMagick\");\n",
    "#Pkg.update(\"Flux\")\n",
    "using Flux: onecold, onehotbatch, logitbinarycrossentropy, params, train!, DataLoader, Chain, Conv, Dense, maxpool, relu, softmax\n",
    "using ImageMagick\n",
    "using FileIO\n",
    "using Images\n"
   ]
  },
  {
   "cell_type": "code",
   "execution_count": 2,
   "metadata": {},
   "outputs": [
    {
     "data": {
      "text/plain": [
       "load_images (generic function with 1 method)"
      ]
     },
     "metadata": {},
     "output_type": "display_data"
    }
   ],
   "source": [
    "function load_images(directory)\n",
    "    image_paths = readdir(directory)\n",
    "    image_paths = filter(x -> occursin(\".jpg\", x), image_paths)  # Filter PNG files\n",
    "    image_paths = [joinpath(directory, img) for img in image_paths]\n",
    "    images = [load(img) for img in image_paths]\n",
    "    return images\n",
    "end"
   ]
  },
  {
   "cell_type": "code",
   "execution_count": 3,
   "metadata": {},
   "outputs": [
    {
     "data": {
      "text/plain": [
       "1763-element Vector{Int64}:\n",
       " 1\n",
       " 1\n",
       " 1\n",
       " 1\n",
       " 1\n",
       " 1\n",
       " 1\n",
       " 1\n",
       " 1\n",
       " 1\n",
       " ⋮\n",
       " 0\n",
       " 0\n",
       " 0\n",
       " 0\n",
       " 0\n",
       " 0\n",
       " 0\n",
       " 0\n",
       " 0"
      ]
     },
     "metadata": {},
     "output_type": "display_data"
    }
   ],
   "source": [
    "good_images = load_images(\"C:\\\\Users\\\\Vincent Alexander\\\\OneDrive\\\\Desktop\\\\Julia\\\\processed_good_path\")\n",
    "bad_images = load_images(\"C:\\\\Users\\\\Vincent Alexander\\\\OneDrive\\\\Desktop\\\\Julia\\\\processed_defective_path\")\n",
    "\n",
    "good_labels = ones(Int, length(good_images))\n",
    "bad_labels = zeros(Int, length(bad_images))\n",
    "\n",
    "images = vcat(good_images, bad_images)\n",
    "labels = vcat(good_labels, bad_labels)"
   ]
  },
  {
   "cell_type": "code",
   "execution_count": 4,
   "metadata": {},
   "outputs": [
    {
     "data": {
      "text/plain": [
       "Chain(\n",
       "  Conv((3, 3), 1 => 16, relu),          \u001b[90m# 160 parameters\u001b[39m\n",
       "  MaxPool((2, 2)),\n",
       "  Conv((3, 3), 16 => 32, relu),         \u001b[90m# 4_640 parameters\u001b[39m\n",
       "  MaxPool((2, 2)),\n",
       "  var\"#17#18\"(),\n",
       "  Dense(288 => 2),                      \u001b[90m# 578 parameters\u001b[39m\n",
       "  NNlib.σ,\n",
       ") \u001b[90m                  # Total: 6 arrays, \u001b[39m5_378 parameters, 22.086 KiB."
      ]
     },
     "metadata": {},
     "output_type": "display_data"
    }
   ],
   "source": [
    "using Flux\n",
    "\n",
    "model = Chain(\n",
    "    Conv((3, 3), 1=>16, relu),\n",
    "    MaxPool((2, 2)),\n",
    "    Conv((3, 3), 16=>32, relu),\n",
    "    MaxPool((2, 2)),\n",
    "    x -> reshape(x, :, size(x, 4)),\n",
    "    Dense(288, 2),\n",
    "    sigmoid\n",
    ")"
   ]
  },
  {
   "cell_type": "code",
   "execution_count": 5,
   "metadata": {},
   "outputs": [
    {
     "data": {
      "text/plain": [
       "loss (generic function with 1 method)"
      ]
     },
     "metadata": {},
     "output_type": "display_data"
    }
   ],
   "source": [
    "loss(x, y) = logitbinarycrossentropy(model(x), y)"
   ]
  },
  {
   "cell_type": "code",
   "execution_count": 6,
   "metadata": {},
   "outputs": [
    {
     "data": {
      "text/plain": [
       "2×1763 OneHotMatrix(::Vector{UInt32}) with eltype Bool:\n",
       " ⋅  ⋅  ⋅  ⋅  ⋅  ⋅  ⋅  ⋅  ⋅  ⋅  ⋅  ⋅  ⋅  …  1  1  1  1  1  1  1  1  1  1  1  1\n",
       " 1  1  1  1  1  1  1  1  1  1  1  1  1     ⋅  ⋅  ⋅  ⋅  ⋅  ⋅  ⋅  ⋅  ⋅  ⋅  ⋅  ⋅"
      ]
     },
     "metadata": {},
     "output_type": "display_data"
    }
   ],
   "source": [
    "images = cat(images..., dims=4)\n",
    "labels = onehotbatch(labels, 0:1)"
   ]
  },
  {
   "cell_type": "code",
   "execution_count": null,
   "metadata": {},
   "outputs": [],
   "source": [
    "function calculate_accuracy(predictions, ground_truth)\n",
    "    predicted_classes = onecold(predictions)\n",
    "    ground_truth_classes = onecold(ground_truth)\n",
    "    return sum(predicted_classes .== ground_truth_classes) / length(ground_truth_classes)\n",
    "end\n",
    "\n",
    "num_epochs = 10  \n",
    "for epoch in 1:num_epochs\n",
    "    for (X,y) in train_loader\n",
    "        train!(loss, params(model), [(X,y)], ADAM(0.001))\n",
    "    end\n",
    "    \n",
    "    if epoch % 1 == 0\n",
    "        train_predictions = model(images)\n",
    "        acc = calculate_accuracy(train_predictions, labels)\n",
    "        println(\"Epoch: $epoch, Accuracy: $acc\")\n",
    "    end\n",
    "end"
   ]
  }
 ],
 "metadata": {
  "kernelspec": {
   "display_name": "Julia 1.9.3",
   "language": "julia",
   "name": "julia-1.9"
  },
  "language_info": {
   "file_extension": ".jl",
   "mimetype": "application/julia",
   "name": "julia",
   "version": "1.9.3"
  }
 },
 "nbformat": 4,
 "nbformat_minor": 2
}
